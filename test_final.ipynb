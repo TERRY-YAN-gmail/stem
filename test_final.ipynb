{
 "cells": [
  {
   "cell_type": "markdown",
   "metadata": {},
   "source": [
    "## On-Class Workshop\n"
   ]
  },
  {
   "cell_type": "markdown",
   "metadata": {},
   "source": [
    "### 1. Matplotlib and Visualization\n",
    "#### Import the matplotlib.pyplot library and run this cell."
   ]
  },
  {
   "cell_type": "code",
   "execution_count": null,
   "metadata": {},
   "outputs": [],
   "source": [
    "import matplotlib.pyplot as plt\n",
    "# Create graphics\n",
    "plt.figure()\n",
    "plt.plot([1, 2, 3, 4], [10, 20, 25, 30])\n",
    "plt.title('No styles')\n",
    "plt.xlabel('x Axis')\n",
    "plt.ylabel('Y Axis')\n",
    "plt.grid(True)\n",
    "plt.show()"
   ]
  },
  {
   "cell_type": "markdown",
   "metadata": {},
   "source": [
    "#### Add some styles and features. Put in the place of \"Write Here\".\n",
    "#### You will see different chart styles."
   ]
  },
  {
   "cell_type": "code",
   "execution_count": null,
   "metadata": {},
   "outputs": [],
   "source": [
    "import matplotlib.pyplot as plt\n",
    "# Create graphics\n",
    "plt.figure()\n",
    "plt.plot([1, 2, 3, 4], [10, 20, 25, 30], color='Write Here', linestyle='Write Here', linewidth='Write Here', markerfacecolor='Write Here', marker='o', markersize='8')\n",
    "plt.title('Custom styles', fontsize='Write Here', fontweight='bold', color='Write Here')\n",
    "plt.xlabel('x Axis',fontsize='Write Here',fontname='Write Here' )\n",
    "plt.ylabel('Y Axis',fontsize='Write Here',fontname='Write Here' )\n",
    "plt.grid(True)\n",
    "plt.show()"
   ]
  },
  {
   "cell_type": "markdown",
   "metadata": {},
   "source": [
    "### 2. Use another visualization module seaborn\n",
    "#### Get 'flights' data and display the first five rows. \n",
    "#### You can see this data set consists of three columns: year, month, passengers"
   ]
  },
  {
   "cell_type": "code",
   "execution_count": null,
   "metadata": {},
   "outputs": [],
   "source": [
    "import matplotlib as mpl\n",
    "from matplotlib import pyplot as plt\n",
    "%matplotlib inline\n",
    "import seaborn as sns\n",
    "data = sns.load_dataset('flights')\n",
    "data.head(5)"
   ]
  },
  {
   "cell_type": "markdown",
   "metadata": {},
   "source": [
    "#### Change the code to count the annual changes passengers。"
   ]
  },
  {
   "cell_type": "code",
   "execution_count": null,
   "metadata": {
    "scrolled": true
   },
   "outputs": [],
   "source": [
    "amount_per_year = data.groupby(\"Write Here\")[['passengers']].sum()\n",
    "amount_per_year.head(5)"
   ]
  },
  {
   "cell_type": "markdown",
   "metadata": {},
   "source": [
    "#### The '\n",
    "amount_per_yea'r summarizes annual data. You can use' amount_per_yea'r data for visualization\n",
    "#### Think what does x and y represenetd for.d.."
   ]
  },
  {
   "cell_type": "code",
   "execution_count": null,
   "metadata": {},
   "outputs": [],
   "source": [
    "fig = plt.figure(figsize = (14,7))\n",
    "x = amount_per_year.'Write Here'\n",
    "y = amount_per_year['Write Here'] \n",
    "plt.plot(x,y,'g--',label = 'passenger number')\n",
    "plt.legend(loc = 'upper left',fontsize = 'large' )\n",
    "plt.title('passenger number via year')\n",
    "plt.xlabel('year')\n",
    "plt.ylabel('passenger number')\n",
    "plt.show()"
   ]
  },
  {
   "cell_type": "markdown",
   "metadata": {},
   "source": [
    "#### It can be seen from the graph that between 1949 and 1960, the number of passengers increased year by year.\n",
    "#### Next, analyze the changes in monthly passenger numbers."
   ]
  },
  {
   "cell_type": "code",
   "execution_count": null,
   "metadata": {},
   "outputs": [],
   "source": [
    "amount_per_month = data.groupby(\"Write Here\")[['passengers']].sum()\n",
    "amount_per_month"
   ]
  },
  {
   "cell_type": "markdown",
   "metadata": {},
   "source": [
    "#### The 'amount_per_year' summarizes annual data. Fulfill the code and run.\n",
    "#### From this figure, it is obvious that July and August have the largest number of passengers."
   ]
  },
  {
   "cell_type": "code",
   "execution_count": null,
   "metadata": {},
   "outputs": [],
   "source": [
    "fig = plt.figure(figsize=(10,5))\n",
    "x1 = amount_per_month.'Write Here'\n",
    "y1 = amount_per_month[\"passengers\"]\n",
    "plt.bar(x1,y1,color = \"cyan\",width = 0.6)\n",
    "plt.xlabel(\"month\")\n",
    "plt.ylabel(\"passengers number\")\n",
    "plt.title(\"passengers per month\")\n",
    "plt.show()"
   ]
  }
 ],
 "metadata": {
  "kernelspec": {
   "display_name": "Python 3 (ipykernel)",
   "language": "python",
   "name": "python3"
  },
  "language_info": {
   "codemirror_mode": {
    "name": "ipython",
    "version": 3
   },
   "file_extension": ".py",
   "mimetype": "text/x-python",
   "name": "python",
   "nbconvert_exporter": "python",
   "pygments_lexer": "ipython3",
   "version": "3.10.8"
  }
 },
 "nbformat": 4,
 "nbformat_minor": 4
}
