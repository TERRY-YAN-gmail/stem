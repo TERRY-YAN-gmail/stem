{
  "nbformat": 4,
  "nbformat_minor": 0,
  "metadata": {
    "colab": {
      "provenance": [],
      "authorship_tag": "ABX9TyM0m2EFWlAAFg2kmr4FNRuN",
      "include_colab_link": true
    },
    "kernelspec": {
      "name": "python3",
      "display_name": "Python 3"
    },
    "language_info": {
      "name": "python"
    }
  },
  "cells": [
    {
      "cell_type": "markdown",
      "metadata": {
        "id": "view-in-github",
        "colab_type": "text"
      },
      "source": [
        "<a href=\"https://colab.research.google.com/github/TERRY-YAN-gmail/stem/blob/main/test1.ipynb\" target=\"_parent\"><img src=\"https://colab.research.google.com/assets/colab-badge.svg\" alt=\"Open In Colab\"/></a>"
      ]
    },
    {
      "cell_type": "code",
      "execution_count": null,
      "metadata": {
        "colab": {
          "base_uri": "https://localhost:8080/"
        },
        "id": "XnPSyjwUFtr-",
        "outputId": "89050d4a-1b16-431f-8d49-53deb63e011b"
      },
      "outputs": [
        {
          "output_type": "stream",
          "name": "stdout",
          "text": [
            "3\n"
          ]
        }
      ],
      "source": [
        "print(3)"
      ]
    },
    {
      "cell_type": "markdown",
      "source": [],
      "metadata": {
        "id": "7mLBvZi5GO7d"
      }
    },
    {
      "cell_type": "code",
      "source": [
        "import matplotlib as mpl\n",
        "from matplotlib import pyplot as plt\n",
        "import pandas as pd\n",
        "#这一行很重要，只有写了这一行代码，可视化后的图形才能在notebook中展现出来\n",
        "%matplotlib inline\n",
        "#导入seaborn包\n",
        "import seaborn as sns\n",
        "#加载数据集\n",
        "data = sns.load_dataset('flights')\n",
        "data.head(10)"
      ],
      "metadata": {
        "id": "SGJrLkA_FvdM"
      },
      "execution_count": null,
      "outputs": []
    },
    {
      "cell_type": "code",
      "source": [
        "amount_per_year = data.groupby(\"year\")[['passengers']].sum()\n",
        "amount_per_year.head()"
      ],
      "metadata": {
        "id": "boA9_psKI1g1"
      },
      "execution_count": null,
      "outputs": []
    },
    {
      "cell_type": "code",
      "source": [
        "#定义一张画布，确定画布的大小\n",
        "fig = plt.figure(figsize = (14,7))\n",
        "#确定折线图的横纵轴的数据\n",
        "x = amount_per_year.index\n",
        "y = amount_per_year['passengers']\n",
        "plt.plot()\n",
        "#用来绘制折线图，'g--'表示绿色，线型为虚线，label表示图例的内容\n",
        "plt.plot(x,y,'g--',label = 'passenger number')\n",
        "#可以对图例的位置和大小进行设置\n",
        "plt.legend()\n",
        "plt.legend(loc = 'upper left',fontsize = 'large' )\n",
        "#设置整个图片的标题\n",
        "plt.title('passenger number via year')\n",
        "#设置x轴名称\n",
        "plt.xlabel('year')\n",
        "#设置y轴名称\n",
        "plt.ylabel('passenger number')\n",
        "plt.show()"
      ],
      "metadata": {
        "id": "dhbiG0R8I6ac"
      },
      "execution_count": null,
      "outputs": []
    }
  ]
}